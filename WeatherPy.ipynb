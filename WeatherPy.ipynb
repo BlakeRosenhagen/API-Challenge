{
 "cells": [
  {
   "cell_type": "markdown",
   "metadata": {},
   "source": [
    "# WeatherPy\n",
    "----\n",
    "\n",
    "#### Note\n",
    "* Instructions have been included for each segment. You do not have to follow them exactly, but they are included to help you think through the steps."
   ]
  },
  {
   "cell_type": "code",
   "execution_count": null,
   "metadata": {
    "scrolled": true
   },
   "outputs": [],
   "source": [
    "! pip install citipy\n",
    "# Dependencies and Setup\n",
    "import matplotlib.pyplot as plt\n",
    "import pandas as pd\n",
    "import numpy as np\n",
    "import requests\n",
    "import time\n",
    "\n",
    "# Import API key\n",
    "from api_keys import api_key\n",
    "\n",
    "# Incorporated citipy to determine city based on latitude and longitude\n",
    "from citipy import citipy\n",
    "\n",
    "# Output File (CSV)\n",
    "output_data_file = \"output_data/cities.csv\"\n",
    "\n",
    "# Range of latitudes and longitudes\n",
    "lat_range = (-90, 90)\n",
    "lng_range = (-180, 180)"
   ]
  },
  {
   "cell_type": "markdown",
   "metadata": {},
   "source": [
    "## Generate Cities List"
   ]
  },
  {
   "cell_type": "code",
   "execution_count": null,
   "metadata": {},
   "outputs": [],
   "source": [
    "# List for holding lat_lngs and cities\n",
    "lat_lngs = []\n",
    "cities = []\n",
    "\n",
    "# Create a set of random lat and lng combinations\n",
    "lats = np.random.uniform(low=-90.000, high=90.000, size=1500)\n",
    "lngs = np.random.uniform(low=-180.000, high=180.000, size=1500)\n",
    "lat_lngs = zip(lats, lngs)\n",
    "\n",
    "# Identify nearest city for each lat, lng combination\n",
    "for lat_lng in lat_lngs:\n",
    "    city = citipy.nearest_city(lat_lng[0], lat_lng[1]).city_name\n",
    "    \n",
    "    # If the city is unique, then add it to a our cities list\n",
    "    if city not in cities:\n",
    "        cities.append(city)\n",
    "\n",
    "# Print the city count to confirm sufficient count\n",
    "len(cities)"
   ]
  },
  {
   "cell_type": "markdown",
   "metadata": {},
   "source": [
    "### Perform API Calls\n",
    "* Perform a weather check on each city using a series of successive API calls.\n",
    "* Include a print log of each city as it'sbeing processed (with the city number and city name).\n"
   ]
  },
  {
   "cell_type": "code",
   "execution_count": null,
   "metadata": {},
   "outputs": [],
   "source": [
    "iteration_number = 0\n",
    "city_id_list = []\n",
    "Cities = []\n",
    "country = []\n",
    "max_temps =[]\n",
    "winds = []\n",
    "clouds = []\n",
    "humids = []\n",
    "dates = []\n",
    "lats =[]\n",
    "lngs = []\n",
    "\n",
    "\n",
    "\n",
    "for city in cities:\n",
    "    base_url = f\"http://api.openweathermap.org/data/2.5/weather?q={city}&units=imperial&APPID={api_key}\"\n",
    "    url = requests.get(base_url).json()   \n",
    "    iteration_number = iteration_number+1\n",
    "    \n",
    "    \n",
    "    print(f\"Search #{iteration_number} for the city of {city}.\")\n",
    "    try:   \n",
    "        city_id = url[\"id\"]\n",
    "        city_id_list.append(city_id)\n",
    "        Cities.append(city.title())\n",
    "        clouds.append(url[\"clouds\"][\"all\"])\n",
    "        country.append(url[\"sys\"][\"country\"])\n",
    "        date = int(url[\"dt\"])\n",
    "        \n",
    "        dates.append(date)\n",
    "        humids.append(url[\"main\"][\"humidity\"])\n",
    "        lats.append(url[\"coord\"][\"lat\"])\n",
    "        lngs.append(url[\"coord\"][\"lon\"])\n",
    "        max_temps.append(url[\"main\"][\"temp_max\"])\n",
    "        winds.append(url[\"wind\"][\"speed\"])  \n",
    "        print(f\"Found: {city} with city id: {city_id}\")\n",
    "    except KeyError:\n",
    "        print(f\"{city} Not Found\")\n",
    "        pass\n",
    "   "
   ]
  },
  {
   "cell_type": "markdown",
   "metadata": {},
   "source": [
    "### Convert Raw Data to DataFrame\n",
    "* Export the city data into a .csv.\n",
    "* Display the DataFrame"
   ]
  },
  {
   "cell_type": "code",
   "execution_count": null,
   "metadata": {},
   "outputs": [],
   "source": [
    "#note I guess i have to create df before insert data into coloumns\n",
    "weather = pd.DataFrame(columns = [\"City\",\"Country\",\"Date\",\"Cloudiness\",\"Humidity\",\"Lat\",\"Lng\",\"Max Temp\",\"Wind Speed\"])\n",
    "\n",
    "weather[\"City\"] = Cities\n",
    "weather[\"Country\"] = country\n",
    "weather[\"Date\"] = date\n",
    "weather[\"Cloudiness\"] = clouds\n",
    "weather[\"Humidity\"] = humids\n",
    "weather[\"Lat\"] = lats\n",
    "weather[\"Lng\"] = lngs\n",
    "weather[\"Max Temp\"] = max_temps\n",
    "weather[\"Wind Speed\"] = winds\n",
    "weather.head()"
   ]
  },
  {
   "cell_type": "code",
   "execution_count": null,
   "metadata": {},
   "outputs": [],
   "source": [
    "weather_df.to_csv(\"Weather.csv\")"
   ]
  },
  {
   "cell_type": "markdown",
   "metadata": {},
   "source": [
    "#### Latitude vs. Temperature Plot"
   ]
  },
  {
   "cell_type": "code",
   "execution_count": null,
   "metadata": {},
   "outputs": [],
   "source": [
    "plt.scatter(weather[\"Lat\"],weather[\"Max Temp\"],s=20)\n",
    "plt.title(\"Latitude vs. Temperature (08/22/18)\")\n",
    "plt.xlabel('Latitude')\n",
    "plt.ylabel('Maximum Temperature')\n",
    "plt.grid(\"True\")\n",
    "\n",
    "plt.savefig(\"fig1.png\")\n",
    "plt.show()"
   ]
  },
  {
   "cell_type": "markdown",
   "metadata": {},
   "source": [
    "#### Latitude vs. Humidity Plot"
   ]
  },
  {
   "cell_type": "code",
   "execution_count": null,
   "metadata": {},
   "outputs": [],
   "source": [
    "plt.scatter(weather[\"Lat\"],weather[\"Humidity\"],s=20)\n",
    "plt.title(\"Latitude vs. Humidity Plot (08/22/18)\")\n",
    "plt.xlabel('Latitude')\n",
    "plt.ylabel('Humidity')\n",
    "plt.grid(\"True\")\n",
    "\n",
    "plt.savefig(\"fig2.png\")\n",
    "plt.show()"
   ]
  },
  {
   "cell_type": "markdown",
   "metadata": {},
   "source": [
    "#### Latitude vs. Cloudiness Plot"
   ]
  },
  {
   "cell_type": "code",
   "execution_count": null,
   "metadata": {},
   "outputs": [],
   "source": [
    "plt.scatter(weather[\"Lat\"],weather[\"Cloudiness\"],s=20)\n",
    "plt.title(\"Latitude vs. Cloudiness (08/22/18)\")\n",
    "plt.xlabel('Latitude')\n",
    "plt.ylabel('Cloudiness')\n",
    "plt.grid(\"True\")\n",
    "\n",
    "plt.savefig(\"fig3.png\")\n",
    "plt.show()"
   ]
  },
  {
   "cell_type": "markdown",
   "metadata": {},
   "source": [
    "#### Latitude vs. Wind Speed Plot"
   ]
  },
  {
   "cell_type": "code",
   "execution_count": null,
   "metadata": {},
   "outputs": [],
   "source": [
    "plt.scatter(weather[\"Lat\"],weather[\"Wind Speed\"],s=20)\n",
    "plt.title(\"Latitude vs. Wind Speed (08/22/18)\")\n",
    "plt.xlabel('Latitude')\n",
    "plt.ylabel('Wind Speed')\n",
    "plt.grid(\"True\")\n",
    "\n",
    "plt.savefig(\"fig4.png\")\n",
    "plt.show()"
   ]
  },
  {
   "cell_type": "code",
   "execution_count": null,
   "metadata": {},
   "outputs": [],
   "source": []
  }
 ],
 "metadata": {
  "anaconda-cloud": {},
  "kernel_info": {
   "name": "python3"
  },
  "kernelspec": {
   "display_name": "Python 3",
   "language": "python",
   "name": "python3"
  },
  "language_info": {
   "codemirror_mode": {
    "name": "ipython",
    "version": 3
   },
   "file_extension": ".py",
   "mimetype": "text/x-python",
   "name": "python",
   "nbconvert_exporter": "python",
   "pygments_lexer": "ipython3",
   "version": "3.7.3"
  },
  "nteract": {
   "version": "0.12.3"
  }
 },
 "nbformat": 4,
 "nbformat_minor": 2
}
